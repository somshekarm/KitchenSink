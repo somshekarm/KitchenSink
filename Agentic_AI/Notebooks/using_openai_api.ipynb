{
 "cells": [
  {
   "cell_type": "code",
   "execution_count": 1,
   "id": "2f1cfe97",
   "metadata": {},
   "outputs": [],
   "source": [
    "from dotenv import load_dotenv"
   ]
  },
  {
   "cell_type": "code",
   "execution_count": 2,
   "id": "7a3c6b53",
   "metadata": {},
   "outputs": [
    {
     "data": {
      "text/plain": [
       "True"
      ]
     },
     "execution_count": 2,
     "metadata": {},
     "output_type": "execute_result"
    }
   ],
   "source": [
    "load_dotenv(override=True )"
   ]
  },
  {
   "cell_type": "code",
   "execution_count": 3,
   "id": "edc47f42",
   "metadata": {},
   "outputs": [
    {
     "name": "stdout",
     "output_type": "stream",
     "text": [
      "OPENAI_API_KEY is set exist and here is first 8 characters:  sk-proj-\n"
     ]
    }
   ],
   "source": [
    "import os\n",
    "openapi_api_key = os.getenv(\"OPENAI_API_KEY\")\n",
    "\n",
    "if openapi_api_key:\n",
    "    print(\"OPENAI_API_KEY is set exist and here is first 8 characters: \", openapi_api_key[:8])\n",
    "else:\n",
    "    print(\"OPENAI_API_KEY is not set\")"
   ]
  },
  {
   "cell_type": "code",
   "execution_count": 4,
   "id": "8f409a3f",
   "metadata": {},
   "outputs": [],
   "source": [
    "from openai import OpenAI\n",
    "\n",
    "openai_client = OpenAI(api_key=openapi_api_key)"
   ]
  },
  {
   "cell_type": "code",
   "execution_count": 5,
   "id": "0fb0e6ca",
   "metadata": {},
   "outputs": [],
   "source": [
    "messages = [{\"role\": \"user\", \"content\": \"What is 6*6\"}]"
   ]
  },
  {
   "cell_type": "code",
   "execution_count": 6,
   "id": "48cb04cc",
   "metadata": {},
   "outputs": [
    {
     "name": "stdout",
     "output_type": "stream",
     "text": [
      "6 * 6 = 36\n"
     ]
    }
   ],
   "source": [
    "response =openai_client.chat.completions.create(\n",
    "    model=\"gpt-4o-mini\",\n",
    "    messages=messages\n",
    ")\n",
    "\n",
    "print(response.choices[0].message.content)"
   ]
  },
  {
   "cell_type": "code",
   "execution_count": 7,
   "id": "0b47c98a",
   "metadata": {},
   "outputs": [
    {
     "name": "stdout",
     "output_type": "stream",
     "text": [
      "If a train leaves a station heading northeast at a speed of 60 miles per hour and another train leaves the same station heading southwest at 80 miles per hour, how far apart will the two trains be after 1 hour?\n"
     ]
    }
   ],
   "source": [
    "question = \"Please provide a hard question to test someonse IQ. Responsd only with the question\"\n",
    "messages = [{\"role\": \"user\", \"content\": question}]\n",
    "response = openai_client.chat.completions.create(\n",
    "    model=\"gpt-4o-mini\",\n",
    "    messages= messages\n",
    ")\n",
    "\n",
    "question2 = response.choices[0].message.content\n",
    "print(question2)"
   ]
  },
  {
   "cell_type": "code",
   "execution_count": 8,
   "id": "ef0dc710",
   "metadata": {},
   "outputs": [],
   "source": [
    "messages2 = [{\"role\": \"user\", \"content\": question2}]"
   ]
  },
  {
   "cell_type": "code",
   "execution_count": 9,
   "id": "f0662939",
   "metadata": {},
   "outputs": [
    {
     "name": "stdout",
     "output_type": "stream",
     "text": [
      "To determine how far apart the two trains will be after 1 hour, we can use the concept of the Pythagorean theorem. Since one train is heading northeast and the other is heading southwest, their paths create a right triangle.\n",
      "\n",
      "1. **Determine the distances traveled by each train:**\n",
      "   - The northeast train travels 60 miles in 1 hour.\n",
      "   - The southwest train travels 80 miles in 1 hour.\n",
      "\n",
      "2. **Visualizing the positions:**\n",
      "   - After 1 hour, the northeast train will be at a distance of 60 miles in a direction of 45 degrees from the positive x-axis (east) and the positive y-axis (north).\n",
      "   - The southwest train will be positioned at a distance of 80 miles, at a direction of 225 degrees from the positive x-axis.\n",
      "\n",
      "3. **Right triangle setup:**\n",
      "   - The northeast train's contribution can be represented as:\n",
      "     - \\( x_1 = 60 \\cos(45^\\circ) = 60 \\times \\frac{\\sqrt{2}}{2} = 30\\sqrt{2} \\) (eastward)\n",
      "     - \\( y_1 = 60 \\sin(45^\\circ) = 60 \\times \\frac{\\sqrt{2}}{2} = 30\\sqrt{2} \\) (northward)\n",
      "\n",
      "   - The southwest train's contribution can be represented as:\n",
      "     - \\( x_2 = 80 \\cos(225^\\circ) = 80 \\times \\left(-\\frac{\\sqrt{2}}{2}\\right) = -40\\sqrt{2} \\) (westward, thus negative)\n",
      "     - \\( y_2 = 80 \\sin(225^\\circ) = 80 \\times \\left(-\\frac{\\sqrt{2}}{2}\\right) = -40\\sqrt{2} \\) (southward, thus negative)\n",
      "\n",
      "4. **Finding the coordinates of each train:**\n",
      "   - Train 1 (northeast): \\( (30\\sqrt{2}, 30\\sqrt{2}) \\)\n",
      "   - Train 2 (southwest): \\( (-40\\sqrt{2}, -40\\sqrt{2}) \\)\n",
      "\n",
      "5. **Calculating the distance between the two trains:**\n",
      "   - We can use the distance formula:\n",
      "   \\[\n",
      "   d = \\sqrt{(x_2 - x_1)^2 + (y_2 - y_1)^2}\n",
      "   \\]\n",
      "   Where the coordinates are:\n",
      "   - \\( x_1 = 30\\sqrt{2}, y_1 = 30\\sqrt{2} \\)\n",
      "   - \\( x_2 = -40\\sqrt{2}, y_2 = -40\\sqrt{2} \\)\n",
      "\n",
      "   - Plugging in:\n",
      "   \\[\n",
      "   d = \\sqrt{((-40\\sqrt{2}) - (30\\sqrt{2}))^2 + ((-40\\sqrt{2}) - (30\\sqrt{2}))^2}\n",
      "   \\]\n",
      "   \\[\n",
      "   d = \\sqrt{(-70\\sqrt{2})^2 + (-70\\sqrt{2})^2}\n",
      "   \\]\n",
      "   \\[\n",
      "   d = \\sqrt{2 \\times (70\\sqrt{2})^2}\n",
      "   \\]\n",
      "   \\[\n",
      "   d = \\sqrt{2 \\times 4900}\n",
      "   \\]\n",
      "   \\[\n",
      "   d = \\sqrt{9800} = 99\n",
      "   \\]\n",
      "\n",
      "Thus, the two trains will be approximately **99 miles apart** after 1 hour.\n"
     ]
    }
   ],
   "source": [
    "response = openai_client.chat.completions.create(\n",
    "    model=\"gpt-4o-mini\",\n",
    "    messages= messages2\n",
    ")\n",
    "\n",
    "answer = response.choices[0].message.content\n",
    "print(answer)"
   ]
  },
  {
   "cell_type": "code",
   "execution_count": 10,
   "id": "087e9448",
   "metadata": {},
   "outputs": [
    {
     "data": {
      "text/markdown": [
       "# To determine how far apart the two trains will be after 1 hour, we can use the concept of the Pythagorean theorem. Since one train is heading northeast and the other is heading southwest, their paths create a right triangle.\n",
       "\n",
       "1. **Determine the distances traveled by each train:**\n",
       "   - The northeast train travels 60 miles in 1 hour.\n",
       "   - The southwest train travels 80 miles in 1 hour.\n",
       "\n",
       "2. **Visualizing the positions:**\n",
       "   - After 1 hour, the northeast train will be at a distance of 60 miles in a direction of 45 degrees from the positive x-axis (east) and the positive y-axis (north).\n",
       "   - The southwest train will be positioned at a distance of 80 miles, at a direction of 225 degrees from the positive x-axis.\n",
       "\n",
       "3. **Right triangle setup:**\n",
       "   - The northeast train's contribution can be represented as:\n",
       "     - \\( x_1 = 60 \\cos(45^\\circ) = 60 \\times \\frac{\\sqrt{2}}{2} = 30\\sqrt{2} \\) (eastward)\n",
       "     - \\( y_1 = 60 \\sin(45^\\circ) = 60 \\times \\frac{\\sqrt{2}}{2} = 30\\sqrt{2} \\) (northward)\n",
       "\n",
       "   - The southwest train's contribution can be represented as:\n",
       "     - \\( x_2 = 80 \\cos(225^\\circ) = 80 \\times \\left(-\\frac{\\sqrt{2}}{2}\\right) = -40\\sqrt{2} \\) (westward, thus negative)\n",
       "     - \\( y_2 = 80 \\sin(225^\\circ) = 80 \\times \\left(-\\frac{\\sqrt{2}}{2}\\right) = -40\\sqrt{2} \\) (southward, thus negative)\n",
       "\n",
       "4. **Finding the coordinates of each train:**\n",
       "   - Train 1 (northeast): \\( (30\\sqrt{2}, 30\\sqrt{2}) \\)\n",
       "   - Train 2 (southwest): \\( (-40\\sqrt{2}, -40\\sqrt{2}) \\)\n",
       "\n",
       "5. **Calculating the distance between the two trains:**\n",
       "   - We can use the distance formula:\n",
       "   \\[\n",
       "   d = \\sqrt{(x_2 - x_1)^2 + (y_2 - y_1)^2}\n",
       "   \\]\n",
       "   Where the coordinates are:\n",
       "   - \\( x_1 = 30\\sqrt{2}, y_1 = 30\\sqrt{2} \\)\n",
       "   - \\( x_2 = -40\\sqrt{2}, y_2 = -40\\sqrt{2} \\)\n",
       "\n",
       "   - Plugging in:\n",
       "   \\[\n",
       "   d = \\sqrt{((-40\\sqrt{2}) - (30\\sqrt{2}))^2 + ((-40\\sqrt{2}) - (30\\sqrt{2}))^2}\n",
       "   \\]\n",
       "   \\[\n",
       "   d = \\sqrt{(-70\\sqrt{2})^2 + (-70\\sqrt{2})^2}\n",
       "   \\]\n",
       "   \\[\n",
       "   d = \\sqrt{2 \\times (70\\sqrt{2})^2}\n",
       "   \\]\n",
       "   \\[\n",
       "   d = \\sqrt{2 \\times 4900}\n",
       "   \\]\n",
       "   \\[\n",
       "   d = \\sqrt{9800} = 99\n",
       "   \\]\n",
       "\n",
       "Thus, the two trains will be approximately **99 miles apart** after 1 hour."
      ],
      "text/plain": [
       "<IPython.core.display.Markdown object>"
      ]
     },
     "metadata": {},
     "output_type": "display_data"
    }
   ],
   "source": [
    "from IPython.display import Markdown, display\n",
    "\n",
    "display(Markdown(f\"# {answer}\"))"
   ]
  }
 ],
 "metadata": {
  "kernelspec": {
   "display_name": ".venv",
   "language": "python",
   "name": "python3"
  },
  "language_info": {
   "codemirror_mode": {
    "name": "ipython",
    "version": 3
   },
   "file_extension": ".py",
   "mimetype": "text/x-python",
   "name": "python",
   "nbconvert_exporter": "python",
   "pygments_lexer": "ipython3",
   "version": "3.12.10"
  }
 },
 "nbformat": 4,
 "nbformat_minor": 5
}
